{
 "cells": [
  {
   "cell_type": "code",
   "execution_count": 1,
   "metadata": {
    "collapsed": false
   },
   "outputs": [
    {
     "name": "stderr",
     "output_type": "stream",
     "text": [
      "Using Theano backend.\n"
     ]
    }
   ],
   "source": [
    "import sys\n",
    "sys.path.append('/Users/snow/Downloads/DeepLearningTutorials-master/code/')\n",
    "\n",
    "import numpy as np\n",
    "import pandas as pd\n",
    "import theano\n",
    "\n",
    "# from keras.layers import containers\n",
    "from keras import models\n",
    "from keras.utils import np_utils\n",
    "\n",
    "from keras.models import Sequential\n",
    "from keras.layers.core import Dropout, Activation, Dense\n",
    "\n",
    "from sklearn.cross_validation import train_test_split\n",
    "from sklearn import preprocessing\n",
    "from sklearn.decomposition import PCA\n",
    "from keras.optimizers import SGD, Adam, RMSprop\n",
    "\n",
    "from keras.datasets import mnist\n",
    "from keras.layers.recurrent import GRU\n",
    "\n",
    "from keras import backend as K\n",
    "from keras.models import model_from_json\n",
    "from keras.callbacks import RemoteMonitor\n",
    "from keras.datasets import mnist\n",
    "\n",
    "# from bokeh.charts import Scatter, output_file, show\n",
    "from bokeh.client import push_session\n",
    "from bokeh.plotting import figure, curdoc, output_server\n",
    "from bokeh.charts import Scatter, show\n",
    "\n",
    "def load_skeleton(json_path):\n",
    "    '''Load keras skeleton model\n",
    "    input\n",
    "    -----\n",
    "    json_path: str\n",
    "          json skeleton model from keras\n",
    "    output\n",
    "    ------\n",
    "    keras model structure\n",
    "    '''\n",
    "    ## Load model structure saved as numypy binary\n",
    "    model_json = str(np.load(json_path))\n",
    "\n",
    "    ## Convert json string to keras model\n",
    "    ae_model = model_from_json(model_json)\n",
    "    return ae_model\n",
    "\n",
    "def load_weights(keras_model, h5_path):\n",
    "    '''Load weights of a saved keras model\n",
    "    input\n",
    "    -----\n",
    "    keras_model: keras skeleton model output from load_skeleton\n",
    "    h5_path: str\n",
    "             path of saved keras file. .h5 file extension\n",
    "    output\n",
    "    ------\n",
    "    keras model structure with desired weights loaded\n",
    "\n",
    "    '''\n",
    "    ## Load trained weights\n",
    "    keras_model.load_weights(h5_path)\n",
    "    return keras_model\n",
    "\n",
    "def load_data(data_path):\n",
    "    '''Load and normalise data\n",
    "    input\n",
    "    -----\n",
    "    data_path: str\n",
    "               file path of data\n",
    "    output\n",
    "    ------\n",
    "    dataframe\n",
    "    '''\n",
    "    ## Load raw data\n",
    "    main_df = pd.read_excel(data_path)\n",
    "    main_df_T = main_df.T\n",
    "    ## n x p\n",
    "    main_df_T = main_df_T[main_df_T.columns][1:]\n",
    "    ## p x n\n",
    "    # main_df_T = main_df_T[main_df_T.columns[1:]]\n",
    "    print('Dataset shape',main_df_T.shape)\n",
    "\n",
    "    ## Normalise\n",
    "    # main_df_T = (main_df_T - main_df_T.mean(axis=0))/main_df_T.std(axis=0) ## Z-score normalised\n",
    "    ## Between 0 and 1 normalised\n",
    "    main_df_01N = (main_df_T - main_df_T.min(axis=0))/(main_df_T.max(axis=0) - main_df_T.min(axis=0)) \n",
    "    return main_df_01N\n",
    "\n",
    "def get_layer_output(keras_model, dataframe):\n",
    "    '''\n",
    "    input\n",
    "    -----\n",
    "    keras_model: keras model object\n",
    "    dataframe: pandas.DataFrame\n",
    "\n",
    "    output\n",
    "    ------\n",
    "    numpy.ndarray\n",
    "\n",
    "    '''\n",
    "    ## Convert python object as theano shared var\n",
    "    X_train = theano.shared(np.asarray(dataframe, dtype=theano.config.floatX))\n",
    "\n",
    "    ## Function to get the output data of the hidden layer\n",
    "    keras_model.layers[0].output_reconstruction = False ## get the deepest layer\n",
    "    get_1st_layer_output = K.function([keras_model.layers[0].input],\n",
    "                                  [keras_model.layers[0].get_output(train=False)])\n",
    "    layer_output = get_1st_layer_output([X_train.get_value()])[0]\n",
    "    return layer_output"
   ]
  },
  {
   "cell_type": "markdown",
   "metadata": {},
   "source": [
    "###### 1. Load dataset and pre"
   ]
  },
  {
   "cell_type": "code",
   "execution_count": 2,
   "metadata": {
    "collapsed": false
   },
   "outputs": [
    {
     "name": "stdout",
     "output_type": "stream",
     "text": [
      "60000 train samples\n",
      "10000 test samples\n"
     ]
    }
   ],
   "source": [
    "(X_train, y_train), (X_test, y_test) = mnist.load_data()\n",
    "\n",
    "X_train = X_train.reshape(60000, 784)\n",
    "X_test = X_test.reshape(10000, 784)\n",
    "X_train = X_train.astype('float32')\n",
    "X_test = X_test.astype('float32')\n",
    "X_train /= 255\n",
    "X_test /= 255\n",
    "print(X_train.shape[0], 'train samples')\n",
    "print(X_test.shape[0], 'test samples')\n",
    "\n",
    "# convert class vectors to binary class matrices\n",
    "Y_train = np_utils.to_categorical(y_train, 10)\n",
    "Y_test = np_utils.to_categorical(y_test, 10)"
   ]
  },
  {
   "cell_type": "code",
   "execution_count": null,
   "metadata": {
    "collapsed": true
   },
   "outputs": [],
   "source": []
  },
  {
   "cell_type": "code",
   "execution_count": 9,
   "metadata": {
    "collapsed": false,
    "scrolled": true
   },
   "outputs": [],
   "source": [
    "# ## A different from kenko\n",
    "# data_path = '/Users/snow/Documents/kenkodo/test_data_znorm.csv'\n",
    "# X_train = pd.read_csv(data_path)"
   ]
  },
  {
   "cell_type": "code",
   "execution_count": 10,
   "metadata": {
    "collapsed": false,
    "scrolled": true
   },
   "outputs": [
    {
     "ename": "KeyError",
     "evalue": "'class_name'",
     "output_type": "error",
     "traceback": [
      "\u001b[0;31m---------------------------------------------------------------------------\u001b[0m",
      "\u001b[0;31mKeyError\u001b[0m                                  Traceback (most recent call last)",
      "\u001b[0;32m<ipython-input-10-a8498db80755>\u001b[0m in \u001b[0;36m<module>\u001b[0;34m()\u001b[0m\n\u001b[1;32m      4\u001b[0m \u001b[0;34m\u001b[0m\u001b[0m\n\u001b[1;32m      5\u001b[0m \u001b[0;31m## Keras skeleton model\u001b[0m\u001b[0;34m\u001b[0m\u001b[0;34m\u001b[0m\u001b[0m\n\u001b[0;32m----> 6\u001b[0;31m \u001b[0mae_model\u001b[0m \u001b[0;34m=\u001b[0m \u001b[0mload_skeleton\u001b[0m\u001b[0;34m(\u001b[0m\u001b[0mjson_path\u001b[0m\u001b[0;34m)\u001b[0m\u001b[0;34m\u001b[0m\u001b[0m\n\u001b[0m\u001b[1;32m      7\u001b[0m \u001b[0;34m\u001b[0m\u001b[0m\n\u001b[1;32m      8\u001b[0m \u001b[0;31m## Keras model with desired weights\u001b[0m\u001b[0;34m\u001b[0m\u001b[0;34m\u001b[0m\u001b[0m\n",
      "\u001b[0;32m<ipython-input-7-b85acee03bc2>\u001b[0m in \u001b[0;36mload_skeleton\u001b[0;34m(json_path)\u001b[0m\n\u001b[1;32m     45\u001b[0m \u001b[0;34m\u001b[0m\u001b[0m\n\u001b[1;32m     46\u001b[0m     \u001b[0;31m## Convert json string to keras model\u001b[0m\u001b[0;34m\u001b[0m\u001b[0;34m\u001b[0m\u001b[0m\n\u001b[0;32m---> 47\u001b[0;31m     \u001b[0mae_model\u001b[0m \u001b[0;34m=\u001b[0m \u001b[0mmodel_from_json\u001b[0m\u001b[0;34m(\u001b[0m\u001b[0mmodel_json\u001b[0m\u001b[0;34m)\u001b[0m\u001b[0;34m\u001b[0m\u001b[0m\n\u001b[0m\u001b[1;32m     48\u001b[0m     \u001b[0;32mreturn\u001b[0m \u001b[0mae_model\u001b[0m\u001b[0;34m\u001b[0m\u001b[0m\n\u001b[1;32m     49\u001b[0m \u001b[0;34m\u001b[0m\u001b[0m\n",
      "\u001b[0;32m/Users/snow/.virtualenvs/theano/lib/python3.5/site-packages/keras/models.py\u001b[0m in \u001b[0;36mmodel_from_json\u001b[0;34m(json_string, custom_objects)\u001b[0m\n\u001b[1;32m     31\u001b[0m     \u001b[0;32mfrom\u001b[0m \u001b[0mkeras\u001b[0m\u001b[0;34m.\u001b[0m\u001b[0mutils\u001b[0m\u001b[0;34m.\u001b[0m\u001b[0mlayer_utils\u001b[0m \u001b[0;32mimport\u001b[0m \u001b[0mlayer_from_config\u001b[0m\u001b[0;34m\u001b[0m\u001b[0m\n\u001b[1;32m     32\u001b[0m     \u001b[0mconfig\u001b[0m \u001b[0;34m=\u001b[0m \u001b[0mjson\u001b[0m\u001b[0;34m.\u001b[0m\u001b[0mloads\u001b[0m\u001b[0;34m(\u001b[0m\u001b[0mjson_string\u001b[0m\u001b[0;34m)\u001b[0m\u001b[0;34m\u001b[0m\u001b[0m\n\u001b[0;32m---> 33\u001b[0;31m     \u001b[0;32mreturn\u001b[0m \u001b[0mlayer_from_config\u001b[0m\u001b[0;34m(\u001b[0m\u001b[0mconfig\u001b[0m\u001b[0;34m,\u001b[0m \u001b[0mcustom_objects\u001b[0m\u001b[0;34m=\u001b[0m\u001b[0mcustom_objects\u001b[0m\u001b[0;34m)\u001b[0m\u001b[0;34m\u001b[0m\u001b[0m\n\u001b[0m\u001b[1;32m     34\u001b[0m \u001b[0;34m\u001b[0m\u001b[0m\n\u001b[1;32m     35\u001b[0m \u001b[0;34m\u001b[0m\u001b[0m\n",
      "\u001b[0;32m/Users/snow/.virtualenvs/theano/lib/python3.5/site-packages/keras/utils/layer_utils.py\u001b[0m in \u001b[0;36mlayer_from_config\u001b[0;34m(config, custom_objects)\u001b[0m\n\u001b[1;32m     22\u001b[0m         \u001b[0mglobals\u001b[0m\u001b[0;34m(\u001b[0m\u001b[0;34m)\u001b[0m\u001b[0;34m[\u001b[0m\u001b[0mcls_key\u001b[0m\u001b[0;34m]\u001b[0m \u001b[0;34m=\u001b[0m \u001b[0mcustom_objects\u001b[0m\u001b[0;34m[\u001b[0m\u001b[0mcls_key\u001b[0m\u001b[0;34m]\u001b[0m\u001b[0;34m\u001b[0m\u001b[0m\n\u001b[1;32m     23\u001b[0m \u001b[0;34m\u001b[0m\u001b[0m\n\u001b[0;32m---> 24\u001b[0;31m     \u001b[0mclass_name\u001b[0m \u001b[0;34m=\u001b[0m \u001b[0mconfig\u001b[0m\u001b[0;34m[\u001b[0m\u001b[0;34m'class_name'\u001b[0m\u001b[0;34m]\u001b[0m\u001b[0;34m\u001b[0m\u001b[0m\n\u001b[0m\u001b[1;32m     25\u001b[0m \u001b[0;34m\u001b[0m\u001b[0m\n\u001b[1;32m     26\u001b[0m     \u001b[0;32mif\u001b[0m \u001b[0mclass_name\u001b[0m \u001b[0;34m==\u001b[0m \u001b[0;34m'Sequential'\u001b[0m\u001b[0;34m:\u001b[0m\u001b[0;34m\u001b[0m\u001b[0m\n",
      "\u001b[0;31mKeyError\u001b[0m: 'class_name'"
     ]
    }
   ],
   "source": [
    "json_path = '/Users/snow/Documents/kenkodo/main/models/ae_kd1.npy'\n",
    "model_path = '/Users/snow/Documents/kenkodo/main/models/ae_kd1.h5'\n",
    "# data_path = '/Users/snow/Documents/kenkodo/test_data_znorm.csv'\n",
    "\n",
    "## Keras skeleton model\n",
    "ae_model = load_skeleton(json_path)\n",
    "\n",
    "## Keras model with desired weights\n",
    "ae_model = load_weights(ae_model, model_path)\n",
    "\n",
    "## Load raw data\n",
    "main_df_01N = pd.DataFrame(X_train)\n",
    "\n",
    "## Get layer output\n",
    "layer_output = get_layer_output(ae_model, main_df_01N)"
   ]
  },
  {
   "cell_type": "code",
   "execution_count": null,
   "metadata": {
    "collapsed": false
   },
   "outputs": [],
   "source": [
    "new_xtrain_2d = pd.DataFrame(layer_output)\n",
    "new_xtrain_2d['label'] = y_train[:50000]\n",
    "new_xtrain_2d.columns = ['x', 'y', 'label']\n",
    "\n",
    "p = figure()\n",
    "r2 = p.scatter(np.arange(100),np.arange(100), marker='circle', size=3,\n",
    "              line_color=\"navy\", fill_color=\"orange\", alpha=0.5)\n",
    "# open a session to keep our local document in sync with server\n",
    "session = push_session(curdoc())\n",
    "\n",
    "# Datasource\n",
    "ds = r2.data_source\n",
    "\n",
    "def update():\n",
    "    global layer_output\n",
    "    global ae_model\n",
    "    ae_model = load_weights(ae_model, model_path)\n",
    "    layer_output = get_layer_output(ae_model, main_df_01N)\n",
    "    ds.data[\"x\"] = layer_output[:,0]\n",
    "    ds.data[\"y\"] = layer_output[:,1]\n",
    "    ds.data\n",
    "    ds.trigger('data', ds.data, ds.data)\n",
    "    \n",
    "curdoc().add_periodic_callback(update, 50)\n",
    "session.show() # open the document in a browser\n",
    "session.loop_until_closed() # run forever"
   ]
  },
  {
   "cell_type": "code",
   "execution_count": null,
   "metadata": {
    "collapsed": false
   },
   "outputs": [],
   "source": [
    "p = figure()\n",
    "r2 = p.scatter(np.arange(100),np.arange(100), marker='circle', size=3,\n",
    "              line_color=\"navy\", fill_color=\"orange\", alpha=0.5)"
   ]
  },
  {
   "cell_type": "code",
   "execution_count": null,
   "metadata": {
    "collapsed": false
   },
   "outputs": [],
   "source": [
    "ds = r2.data_source\n",
    "ds.data[\"x\"] = layer_output[:,0]\n",
    "ds.data[\"y\"] = layer_output[:,1]"
   ]
  },
  {
   "cell_type": "code",
   "execution_count": null,
   "metadata": {
    "collapsed": false
   },
   "outputs": [],
   "source": [
    "r2.data_source.data['x'].shape"
   ]
  },
  {
   "cell_type": "code",
   "execution_count": 11,
   "metadata": {
    "collapsed": false
   },
   "outputs": [
    {
     "ename": "OSError",
     "evalue": "Cannot push session document because we failed to connect to the server (to start the server, try the 'bokeh serve' command)",
     "output_type": "error",
     "traceback": [
      "\u001b[0;31m---------------------------------------------------------------------------\u001b[0m",
      "\u001b[0;31mOSError\u001b[0m                                   Traceback (most recent call last)",
      "\u001b[0;32m<ipython-input-11-7658123afb79>\u001b[0m in \u001b[0;36m<module>\u001b[0;34m()\u001b[0m\n\u001b[0;32m----> 1\u001b[0;31m \u001b[0msession\u001b[0m \u001b[0;34m=\u001b[0m \u001b[0mpush_session\u001b[0m\u001b[0;34m(\u001b[0m\u001b[0mcurdoc\u001b[0m\u001b[0;34m(\u001b[0m\u001b[0;34m)\u001b[0m\u001b[0;34m)\u001b[0m\u001b[0;34m\u001b[0m\u001b[0m\n\u001b[0m\u001b[1;32m      2\u001b[0m \u001b[0msession\u001b[0m\u001b[0;34m.\u001b[0m\u001b[0mshow\u001b[0m\u001b[0;34m(\u001b[0m\u001b[0;34m)\u001b[0m\u001b[0;34m\u001b[0m\u001b[0m\n",
      "\u001b[0;32m/Users/snow/.virtualenvs/theano/lib/python3.5/site-packages/bokeh/client/session.py\u001b[0m in \u001b[0;36mpush_session\u001b[0;34m(document, session_id, url, app_path, io_loop)\u001b[0m\n\u001b[1;32m     61\u001b[0m     \u001b[0mcoords\u001b[0m \u001b[0;34m=\u001b[0m \u001b[0m_SessionCoordinates\u001b[0m\u001b[0;34m(\u001b[0m\u001b[0mdict\u001b[0m\u001b[0;34m(\u001b[0m\u001b[0msession_id\u001b[0m\u001b[0;34m=\u001b[0m\u001b[0msession_id\u001b[0m\u001b[0;34m,\u001b[0m \u001b[0murl\u001b[0m\u001b[0;34m=\u001b[0m\u001b[0murl\u001b[0m\u001b[0;34m,\u001b[0m \u001b[0mapp_path\u001b[0m\u001b[0;34m=\u001b[0m\u001b[0mapp_path\u001b[0m\u001b[0;34m)\u001b[0m\u001b[0;34m)\u001b[0m\u001b[0;34m\u001b[0m\u001b[0m\n\u001b[1;32m     62\u001b[0m     \u001b[0msession\u001b[0m \u001b[0;34m=\u001b[0m \u001b[0mClientSession\u001b[0m\u001b[0;34m(\u001b[0m\u001b[0msession_id\u001b[0m\u001b[0;34m=\u001b[0m\u001b[0mcoords\u001b[0m\u001b[0;34m.\u001b[0m\u001b[0msession_id\u001b[0m\u001b[0;34m,\u001b[0m \u001b[0mwebsocket_url\u001b[0m\u001b[0;34m=\u001b[0m\u001b[0mcoords\u001b[0m\u001b[0;34m.\u001b[0m\u001b[0mwebsocket_url\u001b[0m\u001b[0;34m,\u001b[0m \u001b[0mio_loop\u001b[0m\u001b[0;34m=\u001b[0m\u001b[0mio_loop\u001b[0m\u001b[0;34m)\u001b[0m\u001b[0;34m\u001b[0m\u001b[0m\n\u001b[0;32m---> 63\u001b[0;31m     \u001b[0msession\u001b[0m\u001b[0;34m.\u001b[0m\u001b[0mpush\u001b[0m\u001b[0;34m(\u001b[0m\u001b[0mdocument\u001b[0m\u001b[0;34m)\u001b[0m\u001b[0;34m\u001b[0m\u001b[0m\n\u001b[0m\u001b[1;32m     64\u001b[0m     \u001b[0;32mreturn\u001b[0m \u001b[0msession\u001b[0m\u001b[0;34m\u001b[0m\u001b[0m\n\u001b[1;32m     65\u001b[0m \u001b[0;34m\u001b[0m\u001b[0m\n",
      "\u001b[0;32m/Users/snow/.virtualenvs/theano/lib/python3.5/site-packages/bokeh/client/session.py\u001b[0m in \u001b[0;36mpush\u001b[0;34m(self, document)\u001b[0m\n\u001b[1;32m    267\u001b[0m         \u001b[0mself\u001b[0m\u001b[0;34m.\u001b[0m\u001b[0mconnect\u001b[0m\u001b[0;34m(\u001b[0m\u001b[0;34m)\u001b[0m\u001b[0;34m\u001b[0m\u001b[0m\n\u001b[1;32m    268\u001b[0m         \u001b[0;32mif\u001b[0m \u001b[0;32mnot\u001b[0m \u001b[0mself\u001b[0m\u001b[0;34m.\u001b[0m\u001b[0m_connection\u001b[0m\u001b[0;34m.\u001b[0m\u001b[0mconnected\u001b[0m\u001b[0;34m:\u001b[0m\u001b[0;34m\u001b[0m\u001b[0m\n\u001b[0;32m--> 269\u001b[0;31m             \u001b[0;32mraise\u001b[0m \u001b[0mIOError\u001b[0m\u001b[0;34m(\u001b[0m\u001b[0;34m\"Cannot push session document because we failed to connect to the server (to start the server, try the 'bokeh serve' command)\"\u001b[0m\u001b[0;34m)\u001b[0m\u001b[0;34m\u001b[0m\u001b[0m\n\u001b[0m\u001b[1;32m    270\u001b[0m         \u001b[0mself\u001b[0m\u001b[0;34m.\u001b[0m\u001b[0m_connection\u001b[0m\u001b[0;34m.\u001b[0m\u001b[0mpush_doc\u001b[0m\u001b[0;34m(\u001b[0m\u001b[0mdoc\u001b[0m\u001b[0;34m)\u001b[0m\u001b[0;34m\u001b[0m\u001b[0m\n\u001b[1;32m    271\u001b[0m         \u001b[0;32mif\u001b[0m \u001b[0mself\u001b[0m\u001b[0;34m.\u001b[0m\u001b[0m_document\u001b[0m \u001b[0;32mis\u001b[0m \u001b[0;32mNone\u001b[0m\u001b[0;34m:\u001b[0m\u001b[0;34m\u001b[0m\u001b[0m\n",
      "\u001b[0;31mOSError\u001b[0m: Cannot push session document because we failed to connect to the server (to start the server, try the 'bokeh serve' command)"
     ]
    }
   ],
   "source": [
    "session = push_session(curdoc())\n",
    "session.show()"
   ]
  },
  {
   "cell_type": "code",
   "execution_count": 4,
   "metadata": {
    "collapsed": false
   },
   "outputs": [],
   "source": [
    "new_xtrain_2d = pd.DataFrame(layer_output)\n",
    "new_xtrain_2d['label'] = y_train[:50000]\n",
    "new_xtrain_2d.columns = ['x', 'y', 'label']\n",
    "p = Scatter(new_xtrain_2d,x=new_xtrain_2d.columns[0], y=new_xtrain_2d.columns[1], color='label', marker='label', legend='top_right')\n"
   ]
  },
  {
   "cell_type": "code",
   "execution_count": 7,
   "metadata": {
    "collapsed": true
   },
   "outputs": [],
   "source": [
    "p = Scatter(new_xtrain_2d[:100],x=new_xtrain_2d.columns[0], y=new_xtrain_2d.columns[1], color='label', marker='label', legend='top_right')"
   ]
  },
  {
   "cell_type": "code",
   "execution_count": 6,
   "metadata": {
    "collapsed": true
   },
   "outputs": [],
   "source": [
    "session = push_session(curdoc())\n",
    "session.show()"
   ]
  }
 ],
 "metadata": {
  "celltoolbar": "Raw Cell Format",
  "kernelspec": {
   "display_name": "Python 3",
   "language": "python",
   "name": "python3"
  },
  "language_info": {
   "codemirror_mode": {
    "name": "ipython",
    "version": 3
   },
   "file_extension": ".py",
   "mimetype": "text/x-python",
   "name": "python",
   "nbconvert_exporter": "python",
   "pygments_lexer": "ipython3",
   "version": "3.5.1"
  }
 },
 "nbformat": 4,
 "nbformat_minor": 0
}
