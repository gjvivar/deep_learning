{
 "cells": [
  {
   "cell_type": "markdown",
   "metadata": {},
   "source": [
    "# MLP in 5 easy steps\n",
    "1. Import Keras modules\n",
    "2. Load dataset and preprocess\n",
    "3. Build Keras model\n",
    "4. Train the model using the training set\n",
    "5. Test the best trained model"
   ]
  },
  {
   "cell_type": "markdown",
   "metadata": {},
   "source": [
    "## Step 1. Import Keras modules"
   ]
  },
  {
   "cell_type": "code",
   "execution_count": 8,
   "metadata": {
    "collapsed": false
   },
   "outputs": [],
   "source": [
    "from keras.models import Sequential\n",
    "from keras.layers import Dense, Dropout, Activation\n",
    "from keras.optimizers import SGD \n",
    "from keras.datasets import mnist\n",
    "from keras.utils import np_utils"
   ]
  },
  {
   "cell_type": "markdown",
   "metadata": {},
   "source": [
    "## Step 2. Load dataset and preprocess"
   ]
  },
  {
   "cell_type": "code",
   "execution_count": 21,
   "metadata": {
    "collapsed": false,
    "scrolled": true
   },
   "outputs": [
    {
     "name": "stdout",
     "output_type": "stream",
     "text": [
      "60000 training samples\n",
      "10000 testing samples\n"
     ]
    }
   ],
   "source": [
    "## Load dataset\n",
    "(X_train, y_train), (X_test, y_test) = mnist.load_data()\n",
    "X_train = X_train.reshape(60000, 784)\n",
    "X_test = X_test.reshape(10000, 784)\n",
    "X_train = X_train.astype('float32')\n",
    "X_test = X_test.astype('float32')\n",
    "\n",
    "## Preprocess image pixels elem-wise.\n",
    "X_train /= 255\n",
    "X_test /= 255\n",
    "\n",
    "print(X_train.shape[0], 'training samples')\n",
    "print(X_test.shape[0], 'testing samples')\n",
    "\n",
    "## Convert class into 1-hot encoding.\n",
    "Y_train = np_utils.to_categorical(y_train, 10)\n",
    "Y_test = np_utils.to_categorical(y_test, 10)\n",
    "\n",
    "## Global vars to build the model\n",
    "input_dim = X_train.shape[1]\n",
    "hidden_units = int(input_dim/2)"
   ]
  },
  {
   "cell_type": "markdown",
   "metadata": {},
   "source": [
    "## Step 3. Build keras models"
   ]
  },
  {
   "cell_type": "code",
   "execution_count": 33,
   "metadata": {
    "collapsed": false,
    "scrolled": true
   },
   "outputs": [],
   "source": [
    "model = Sequential()\n",
    "\n",
    "## Input layer\n",
    "model.add(Dense(hidden_units, input_dim=input_dim, init='uniform'))\n",
    "model.add(Activation('relu'))\n",
    "model.add(Dropout(0.5))\n",
    "\n",
    "## 1 Hidden layer with 64 hidden units\n",
    "model.add(Dense(hidden_units, init='uniform'))\n",
    "model.add(Activation('relu'))\n",
    "model.add(Dropout(0.5))\n",
    "\n",
    "## Output layer with for 10-class labels\n",
    "model.add(Dense(10))\n",
    "model.add(Activation('softmax'))\n",
    "\n",
    "## Stochastic gradient decent\n",
    "sgd = SGD(lr=0.1, decay=1e-6, momentum=0.9, nesterov=True)\n",
    "model.compile(loss='categorical_crossentropy', metrics=['accuracy'],\n",
    "              optimizer=sgd) ## Compile the model"
   ]
  },
  {
   "cell_type": "markdown",
   "metadata": {},
   "source": [
    "## Step 4. Train the model using training set"
   ]
  },
  {
   "cell_type": "code",
   "execution_count": 34,
   "metadata": {
    "collapsed": false
   },
   "outputs": [
    {
     "name": "stdout",
     "output_type": "stream",
     "text": [
      "Train on 48000 samples, validate on 12000 samples\n",
      "Epoch 1/10\n",
      "3s - loss: 0.8716 - acc: 0.7303 - val_loss: 0.2704 - val_acc: 0.9192\n",
      "Epoch 2/10\n",
      "3s - loss: 0.3166 - acc: 0.9059 - val_loss: 0.1926 - val_acc: 0.9434\n",
      "Epoch 3/10\n",
      "3s - loss: 0.2402 - acc: 0.9296 - val_loss: 0.1512 - val_acc: 0.9560\n",
      "Epoch 4/10\n",
      "3s - loss: 0.1959 - acc: 0.9425 - val_loss: 0.1291 - val_acc: 0.9623\n",
      "Epoch 5/10\n",
      "3s - loss: 0.1698 - acc: 0.9498 - val_loss: 0.1151 - val_acc: 0.9653\n",
      "Epoch 6/10\n",
      "3s - loss: 0.1492 - acc: 0.9550 - val_loss: 0.1064 - val_acc: 0.9684\n",
      "Epoch 7/10\n",
      "3s - loss: 0.1386 - acc: 0.9593 - val_loss: 0.0972 - val_acc: 0.9714\n",
      "Epoch 8/10\n",
      "3s - loss: 0.1262 - acc: 0.9617 - val_loss: 0.0928 - val_acc: 0.9729\n",
      "Epoch 9/10\n",
      "3s - loss: 0.1163 - acc: 0.9653 - val_loss: 0.0886 - val_acc: 0.9733\n",
      "Epoch 10/10\n",
      "3s - loss: 0.1077 - acc: 0.9674 - val_loss: 0.0830 - val_acc: 0.9757\n"
     ]
    },
    {
     "data": {
      "text/plain": [
       "<keras.callbacks.History at 0x109cafda0>"
      ]
     },
     "execution_count": 34,
     "metadata": {},
     "output_type": "execute_result"
    }
   ],
   "source": [
    "\"\"\"\n",
    "Train the model using 1000 random samples\n",
    "per epoch by using 20% of the training set \n",
    "as validation set during training.\n",
    "\"\"\" \n",
    "model.fit(X_train, Y_train, \n",
    "          nb_epoch=10, \n",
    "          batch_size=1000, \n",
    "          verbose=2, \n",
    "          validation_split=0.2)"
   ]
  },
  {
   "cell_type": "markdown",
   "metadata": {
    "collapsed": true
   },
   "source": [
    "## Step 5. Test the best trained model"
   ]
  },
  {
   "cell_type": "code",
   "execution_count": 44,
   "metadata": {
    "collapsed": false
   },
   "outputs": [
    {
     "name": "stdout",
     "output_type": "stream",
     "text": [
      "10000/10000 [==============================] - 0s     \n",
      "Test error is 2.489998936653137\n"
     ]
    }
   ],
   "source": [
    "score = model.evaluate(X_test, Y_test, batch_size=1000)\n",
    "test_error = 100 - (score[1] * 100)\n",
    "print('Accuracy is {}'.format(test_error))\n",
    "\n",
    "##### NOTE!!! #####\n",
    "## This is not the best MNIST MLP model in the world. \n",
    "## There are still other tricks which you can \n",
    "## do to improve this MNIST MLP model... \n",
    "## But hey you just managed to run an MLP model! Great Job!"
   ]
  },
  {
   "cell_type": "markdown",
   "metadata": {},
   "source": [
    "###### You can check how good this model is by checking this link.\n",
    "\n",
    "(http://yann.lecun.com/exdb/mnist/)"
   ]
  }
 ],
 "metadata": {
  "kernelspec": {
   "display_name": "Python 3",
   "language": "python",
   "name": "python3"
  },
  "language_info": {
   "codemirror_mode": {
    "name": "ipython",
    "version": 3
   },
   "file_extension": ".py",
   "mimetype": "text/x-python",
   "name": "python",
   "nbconvert_exporter": "python",
   "pygments_lexer": "ipython3",
   "version": "3.5.1"
  }
 },
 "nbformat": 4,
 "nbformat_minor": 0
}
